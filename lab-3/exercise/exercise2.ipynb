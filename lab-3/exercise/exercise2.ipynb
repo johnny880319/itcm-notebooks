{
 "cells": [
  {
   "cell_type": "markdown",
   "metadata": {},
   "source": [
    "# Lab 3\n",
    "\n",
    "1. 提交作業之前，建議可以先點選上方工具列的**Kernel**，再選擇**Restart & Run All**，檢查一下是否程式跑起來都沒有問題，最後記得儲存。\n",
    "2. 請先填上下方的姓名(name)及學號(stduent_id)再開始作答，例如：\n",
    "```python\n",
    "name = \"我的名字\"\n",
    "student_id= \"B06201000\"\n",
    "```\n",
    "3. 演算法的實作可以參考[lab-3](https://yuanyuyuan.github.io/itcm/lab-3.html), 有任何問題歡迎找助教詢問。\n",
    "4. **Deadline: 10/30(Wed.)**"
   ]
  },
  {
   "cell_type": "code",
   "execution_count": 1,
   "metadata": {},
   "outputs": [],
   "source": [
    "name = \"馬宗儀\"\n",
    "student_id = \"b06201006\""
   ]
  },
  {
   "cell_type": "markdown",
   "metadata": {},
   "source": [
    "---"
   ]
  },
  {
   "cell_type": "markdown",
   "metadata": {
    "deletable": false,
    "editable": false,
    "nbgrader": {
     "cell_type": "markdown",
     "checksum": "b9568c7d2582af537452f3439f2a918b",
     "grade": false,
     "grade_id": "cell-9da5aa37d63c48b9",
     "locked": true,
     "schema_version": 3,
     "solution": false,
     "task": false
    }
   },
   "source": [
    "# Exercise 2\n",
    "---\n",
    "\n",
    "## It is known that when interpolating a function $f(x)$ with a polynomial $p_{m+1}$ of degree $m$ that using $x_j$ for $j = 0, 1, \\dots, m$ as interpolation points the error has the form\n",
    "## $$|f(x) - p_{m+1}(x)| = \\frac{\\left| f^{(m+1)} (\\xi_x) \\right|}{(m+1)!}\\ \\left| \\prod_{k=0}^{m} (x - x_k) \\right|,$$\n",
    "## where $\\xi_x \\in [x_0, x_m]$.\n",
    "\n",
    "## Therefore, the polynomial $\\omega_m(t) := \\prod_{k=0}^{m} (t - x_k)$ influences the size of the interpolation error."
   ]
  },
  {
   "cell_type": "markdown",
   "metadata": {
    "deletable": false,
    "editable": false,
    "nbgrader": {
     "cell_type": "markdown",
     "checksum": "59aedc363401bfd4d19355d9e58b2900",
     "grade": false,
     "grade_id": "cell-09e3f9fc09fc4435",
     "locked": true,
     "schema_version": 3,
     "solution": false,
     "task": false
    }
   },
   "source": [
    "---\n",
    "## 1. Put $m+1$ <span style=\"color:red\"> *distinct equidistant points*</span> in the interval $[−1, 1]$, and plot $\\omega_m(t)$ for $m = 5, 10, 15, 20$."
   ]
  },
  {
   "cell_type": "markdown",
   "metadata": {
    "deletable": false,
    "editable": false,
    "nbgrader": {
     "cell_type": "markdown",
     "checksum": "6fbe6146dc6afe3a7548ce8a8a32e648",
     "grade": false,
     "grade_id": "cell-fa9aa04236930f4f",
     "locked": true,
     "schema_version": 3,
     "solution": false,
     "task": false
    }
   },
   "source": [
    "### Part 0. Import libraries."
   ]
  },
  {
   "cell_type": "code",
   "execution_count": 2,
   "metadata": {
    "deletable": false,
    "editable": false,
    "nbgrader": {
     "cell_type": "code",
     "checksum": "13b1b013aba4f22da06523b060531d0b",
     "grade": false,
     "grade_id": "cell-0420352cf2de5f65",
     "locked": true,
     "schema_version": 3,
     "solution": false,
     "task": false
    }
   },
   "outputs": [],
   "source": [
    "import matplotlib.pyplot as plt\n",
    "import numpy as np"
   ]
  },
  {
   "cell_type": "markdown",
   "metadata": {
    "deletable": false,
    "editable": false,
    "nbgrader": {
     "cell_type": "markdown",
     "checksum": "2f9e944470589e566e1b7bac9e145cf9",
     "grade": false,
     "grade_id": "cell-e07fc6168ccb8e8b",
     "locked": true,
     "schema_version": 3,
     "solution": false,
     "task": false
    }
   },
   "source": [
    "### Part 1. Define $\\omega_m(t)$ function."
   ]
  },
  {
   "cell_type": "code",
   "execution_count": 3,
   "metadata": {
    "deletable": false,
    "nbgrader": {
     "cell_type": "code",
     "checksum": "3a73624559061e43cd25c84c404ffa4a",
     "grade": false,
     "grade_id": "cell-61339e766809314a",
     "locked": false,
     "schema_version": 3,
     "solution": true,
     "task": false
    }
   },
   "outputs": [],
   "source": [
    "def omega_m(t, x):\n",
    "    \n",
    "    # ===== 請實做程式 =====\n",
    "    \n",
    "    n=len(x)\n",
    "    g_x=1\n",
    "    for i in range(n):\n",
    "        g_x*=(t-x[i])\n",
    "    return g_x\n",
    "    # ===================="
   ]
  },
  {
   "cell_type": "code",
   "execution_count": 4,
   "metadata": {
    "deletable": false,
    "editable": false,
    "nbgrader": {
     "cell_type": "code",
     "checksum": "ce6305bf60d81226e8c6db8495513c54",
     "grade": true,
     "grade_id": "omega",
     "locked": true,
     "points": 2,
     "schema_version": 3,
     "solution": false,
     "task": false
    }
   },
   "outputs": [
    {
     "name": "stdout",
     "output_type": "stream",
     "text": [
      "w_5(0.5) = 0.017325000000000007\n"
     ]
    }
   ],
   "source": [
    "# Test\n",
    "print('w_5(0.5) =', omega_m(0.5, np.linspace(-1, 1, 6)))\n"
   ]
  },
  {
   "cell_type": "markdown",
   "metadata": {
    "deletable": false,
    "editable": false,
    "nbgrader": {
     "cell_type": "markdown",
     "checksum": "0a08591fb9a545c86d33354208a4abf3",
     "grade": false,
     "grade_id": "cell-86c9f10bfb8d9bdc",
     "locked": true,
     "schema_version": 3,
     "solution": false,
     "task": false
    }
   },
   "source": [
    "### Part 2. Define the equidistant points function.\n",
    "\n",
    "#### For example, if $m = 4$, then $m+1$ distinct equidistant points in the interval  $[−1,1]$ should be $[-1, -0.5, 0, 0.5, 1]$.\n",
    "#### So the results of <code>equidistant_points(4)</code> will be <code>[-1.  -0.5  0.   0.5  1. ]</code>."
   ]
  },
  {
   "cell_type": "code",
   "execution_count": 26,
   "metadata": {
    "deletable": false,
    "nbgrader": {
     "cell_type": "code",
     "checksum": "6d09918f06212ee50308dad47f5af2d9",
     "grade": false,
     "grade_id": "cell-2520343a4dc1c791",
     "locked": false,
     "schema_version": 3,
     "solution": true,
     "task": false
    }
   },
   "outputs": [],
   "source": [
    "def equidistant_points(m):\n",
    "    # ===== 請實做程式 =====\n",
    "    return np.linspace(-1,1,m+1)\n",
    "    # ===================="
   ]
  },
  {
   "cell_type": "code",
   "execution_count": 27,
   "metadata": {
    "deletable": false,
    "editable": false,
    "nbgrader": {
     "cell_type": "code",
     "checksum": "5418f9b974d3e83f5e18ac99f0f1752a",
     "grade": true,
     "grade_id": "points",
     "locked": true,
     "points": 2,
     "schema_version": 3,
     "solution": false,
     "task": false
    }
   },
   "outputs": [
    {
     "name": "stdout",
     "output_type": "stream",
     "text": [
      "Equidistant points: [-1.  -0.5  0.   0.5  1. ]\n"
     ]
    }
   ],
   "source": [
    "# Test\n",
    "m = 4\n",
    "print(\"Equidistant points:\", equidistant_points(m))\n"
   ]
  },
  {
   "cell_type": "markdown",
   "metadata": {
    "deletable": false,
    "editable": false,
    "nbgrader": {
     "cell_type": "markdown",
     "checksum": "cb3d0db2ee61daf7578ed53b2e250f62",
     "grade": false,
     "grade_id": "cell-abc4a5e103760469",
     "locked": true,
     "schema_version": 3,
     "solution": false,
     "task": false
    }
   },
   "source": [
    "### Part 3. plot $\\omega_m(t)$ for $m = 5, 10, 15, 20$.\n",
    "#### Please refer parts of plotting in \" _lagrange.ipynb_ \"."
   ]
  },
  {
   "cell_type": "code",
   "execution_count": 76,
   "metadata": {
    "deletable": false,
    "nbgrader": {
     "cell_type": "code",
     "checksum": "b87c1bd487dec32d37045abacdacfa09",
     "grade": true,
     "grade_id": "plot",
     "locked": false,
     "points": 2,
     "schema_version": 3,
     "solution": true,
     "task": false
    }
   },
   "outputs": [
    {
     "data": {
      "image/png": "[encoded data removed]",
      "text/plain": [
       "<Figure size 1152x648 with 1 Axes>"
      ]
     },
     "metadata": {
      "needs_background": "light"
     },
     "output_type": "display_data"
    }
   ],
   "source": [
    "x_range = np.arange(-1, 1, 0.01)\n",
    "fig, ax = plt.subplots(figsize=(16, 9))\n",
    "\n",
    "# Plot the function w_5(x), w_10(x), w_15(x) and w_20(x)\n",
    "#\n",
    "# Hint: ax.plot( x_points, y_points, color='?', label='?')\n",
    "# ===== 請實做程式 =====\n",
    "x_n=equidistant_points(5)\n",
    "x=x_range\n",
    "y=omega_m(x, x_n)\n",
    "ax.plot(x,y,label='5')\n",
    "\n",
    "x_n=equidistant_points(10)\n",
    "x=x_range\n",
    "y=omega_m(x, x_n)\n",
    "ax.plot(x,y,label='10')\n",
    "\n",
    "x_n=equidistant_points(15)\n",
    "x=x_range\n",
    "y=omega_m(x, x_n)\n",
    "ax.plot(x,y,label='15')\n",
    "\n",
    "x_n=equidistant_points(20)\n",
    "x=x_range\n",
    "y=omega_m(x, x_n)\n",
    "ax.plot(x,y,label='20')\n",
    "# ====================\n",
    "\n",
    "# Add other text and items\n",
    "ax.set_title(r'$\\omega_{5}(x), \\omega_{10}(x), \\omega_{15}(x)$ and $\\omega_{20}(x)$')\n",
    "plt.legend(loc='upper right')\n",
    "ax.grid(True)\n",
    "ax.axhline(y=0)\n",
    "ax.axvline(x=0)\n",
    "plt.show()"
   ]
  },
  {
   "cell_type": "markdown",
   "metadata": {
    "deletable": false,
    "editable": false,
    "nbgrader": {
     "cell_type": "markdown",
     "checksum": "4bd2654f005b269458456eeca79fed25",
     "grade": false,
     "grade_id": "cell-e01f579cc2c46699",
     "locked": true,
     "schema_version": 3,
     "solution": false,
     "task": false
    }
   },
   "source": [
    "### Part 4. What's your observation of the above figure?"
   ]
  },
  {
   "cell_type": "markdown",
   "metadata": {
    "deletable": false,
    "nbgrader": {
     "cell_type": "markdown",
     "checksum": "73bdc967d4838d949715e48a369445e8",
     "grade": true,
     "grade_id": "observation",
     "locked": false,
     "points": 2,
     "schema_version": 3,
     "solution": true,
     "task": false
    }
   },
   "source": [
    "when m increase, error decrease!"
   ]
  },
  {
   "cell_type": "markdown",
   "metadata": {
    "deletable": false,
    "editable": false,
    "nbgrader": {
     "cell_type": "markdown",
     "checksum": "b373dc71d41e012fed3fa4434ff2ecf5",
     "grade": false,
     "grade_id": "cell-8ad638aa384a32e4",
     "locked": true,
     "schema_version": 3,
     "solution": false,
     "task": false
    }
   },
   "source": [
    "---\n",
    "## 2. Redo \" *Problem 1.* \" using <span style=\"color:red\">*zeros of the Chebyshev polynomial (Chebyshev nodes)*</span> as the interpolation points."
   ]
  },
  {
   "cell_type": "markdown",
   "metadata": {
    "deletable": false,
    "editable": false,
    "nbgrader": {
     "cell_type": "markdown",
     "checksum": "7ac2667f1953eeb5a8d867bfaeae4885",
     "grade": false,
     "grade_id": "cell-399157736a99913a",
     "locked": true,
     "schema_version": 3,
     "solution": false,
     "task": false
    }
   },
   "source": [
    "### Part 1. Define Chebyshev nodes.\n",
    "#### Please refer the part of Chebyshev nodes in \" _lagrange.ipynb_ \"."
   ]
  },
  {
   "cell_type": "code",
   "execution_count": 79,
   "metadata": {
    "deletable": false,
    "nbgrader": {
     "cell_type": "code",
     "checksum": "a82dfaa9b01ba33ec028e0706039ecff",
     "grade": false,
     "grade_id": "cell-18fcd2f2140f90cc",
     "locked": false,
     "schema_version": 3,
     "solution": true,
     "task": false
    }
   },
   "outputs": [],
   "source": [
    "def chebv_nodes(m):\n",
    "    # ===== 請實做程式 =====\n",
    "    return np.cos(np.linspace(-np.pi,np.pi,m+1))\n",
    "    # ===================="
   ]
  },
  {
   "cell_type": "code",
   "execution_count": 80,
   "metadata": {
    "deletable": false,
    "editable": false,
    "nbgrader": {
     "cell_type": "code",
     "checksum": "6cf5be940ddfba93814d24c0b3b75a1c",
     "grade": true,
     "grade_id": "chebv_nodes",
     "locked": true,
     "points": 1,
     "schema_version": 3,
     "solution": false,
     "task": false
    }
   },
   "outputs": [
    {
     "name": "stdout",
     "output_type": "stream",
     "text": [
      "Chebyshev nodes: [-1.         -0.30901699  0.80901699  0.80901699 -0.30901699 -1.        ]\n"
     ]
    }
   ],
   "source": [
    "# Test\n",
    "m = 5\n",
    "print(\"Chebyshev nodes:\", chebv_nodes(m))\n"
   ]
  },
  {
   "cell_type": "markdown",
   "metadata": {
    "deletable": false,
    "editable": false,
    "nbgrader": {
     "cell_type": "markdown",
     "checksum": "7f95695b75880057912a1603b98f8baa",
     "grade": false,
     "grade_id": "cell-f06b7ac796e4a942",
     "locked": true,
     "schema_version": 3,
     "solution": false,
     "task": false
    }
   },
   "source": [
    "### Part 2. plot $\\omega(t)$ for $m = 5, 10, 15, 20$.\n",
    "#### Please refer parts of plotting in \" _lagrange.ipynb_ \"."
   ]
  },
  {
   "cell_type": "code",
   "execution_count": 81,
   "metadata": {
    "deletable": false,
    "nbgrader": {
     "cell_type": "code",
     "checksum": "37bb64777548b90cbbf6aa9502c1f255",
     "grade": true,
     "grade_id": "chebv_plot",
     "locked": false,
     "points": 2,
     "schema_version": 3,
     "solution": true,
     "task": false
    }
   },
   "outputs": [
    {
     "data": {
      "image/png": "[encoded data removed]",
      "text/plain": [
       "<Figure size 1152x648 with 1 Axes>"
      ]
     },
     "metadata": {
      "needs_background": "light"
     },
     "output_type": "display_data"
    }
   ],
   "source": [
    "x_range = np.arange(-1, 1, 0.01)\n",
    "fig, ax = plt.subplots(figsize=(16, 9))\n",
    "\n",
    "# Plot the function w_5(x), w_10(x), w_15(x) and w_20(x)\n",
    "#\n",
    "# Hint: ax.plot( x_points, y_points, color='?', label='?')\n",
    "# ===== 請實做程式 =====\n",
    "x_n=chebv_nodes(5)\n",
    "x=x_range\n",
    "y=omega_m(x, x_n)\n",
    "ax.plot(x,y,label='5')\n",
    "\n",
    "x_n=chebv_nodes(10)\n",
    "x=x_range\n",
    "y=omega_m(x, x_n)\n",
    "ax.plot(x,y,label='10')\n",
    "\n",
    "x_n=chebv_nodes(15)\n",
    "x=x_range\n",
    "y=omega_m(x, x_n)\n",
    "ax.plot(x,y,label='15')\n",
    "\n",
    "x_n=chebv_nodes(20)\n",
    "x=x_range\n",
    "y=omega_m(x, x_n)\n",
    "ax.plot(x,y,label='20')\n",
    "# ====================\n",
    "\n",
    "# Add other text and items\n",
    "ax.set_title(r'$\\omega_{5}(x), \\omega_{10}(x), \\omega_{15}(x)$ and $\\omega_{20}(x)$')\n",
    "plt.legend(loc='upper right')\n",
    "ax.grid(True)\n",
    "ax.axhline(y=0)\n",
    "ax.axvline(x=0)\n",
    "plt.show()"
   ]
  },
  {
   "cell_type": "markdown",
   "metadata": {
    "deletable": false,
    "editable": false,
    "nbgrader": {
     "cell_type": "markdown",
     "checksum": "435abca59897c297147150216d0cf599",
     "grade": false,
     "grade_id": "cell-a7fb81d71cdc7abd",
     "locked": true,
     "schema_version": 3,
     "solution": false,
     "task": false
    }
   },
   "source": [
    "### Part 3. What's your observation of the above figure?"
   ]
  },
  {
   "cell_type": "markdown",
   "metadata": {
    "deletable": false,
    "nbgrader": {
     "cell_type": "markdown",
     "checksum": "eb6830f2949eae15c901b216f0da0ace",
     "grade": true,
     "grade_id": "chebv_observation",
     "locked": false,
     "points": 2,
     "schema_version": 3,
     "solution": true,
     "task": false
    }
   },
   "source": [
    "when m increase, error decrease！\n"
   ]
  },
  {
   "cell_type": "code",
   "execution_count": null,
   "metadata": {},
   "outputs": [],
   "source": []
  }
 ],
 "metadata": {
  "kernelspec": {
   "display_name": "Python 3",
   "language": "python",
   "name": "python3"
  },
  "language_info": {
   "codemirror_mode": {
    "name": "ipython",
    "version": 3
   },
   "file_extension": ".py",
   "mimetype": "text/x-python",
   "name": "python",
   "nbconvert_exporter": "python",
   "pygments_lexer": "ipython3",
   "version": "3.7.3"
  }
 },
 "nbformat": 4,
 "nbformat_minor": 2
}
