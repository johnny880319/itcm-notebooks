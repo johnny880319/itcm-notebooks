{
 "cells": [
  {
   "cell_type": "markdown",
   "metadata": {},
   "source": [
    "# Newton's Method\n",
    "\n",
    "Newton's method is using linear approximation to solve the root finding problems.<br>\n",
    "<img src='https://jmahaffy.sdsu.edu/courses/f00/math122/lectures/newtons_method/images/newton_graph.jpg'>"
   ]
  },
  {
   "cell_type": "markdown",
   "metadata": {},
   "source": [
    "## Hypothesis\n",
    "\n",
    "1. The given function $f: (a,b) \\to \\mathbb{R}$ is differentiable on the interval $(a,b)$.\n",
    "2. The current approximation solutions $x_n$ are in the interval $(a,b)$."
   ]
  },
  {
   "cell_type": "markdown",
   "metadata": {},
   "source": [
    "## Formula\n",
    "\n",
    "Suppose the function $f : (a,b) \\to \\mathbb{R}$ is a differentiable function defined on the interval $(a,b)$ with values in the real numbers $\\mathbb{R}$, and we have some current approximation $x_n$.\n",
    "<br><br>\n",
    "Then we can derive the formula for a better approximation, $x_{n+1}$ by referring to the diagram on the right.\n",
    "<br><br>\n",
    "The equation of the tangent line to the curve $y = f(x)$ at $x = x_n$ is<br>\n",
    "    $$y = f'(x_n)(x - x_n) + f(x_n),$$\n",
    "where $f'$ denotes the derivative.\n",
    "<br><br>\n",
    "The $x$-intercept of this line is taken as the next approximation, $x_{n+1}$, to the root, so that the equation of the tangent line is satisfied when $(x,y) = (x_{n+1}, 0)$:<br>\n",
    "    $$0 = f'(x_n)(x_{n+1} - x_n) + f(x_n).$$\n",
    "Solving for $x_{n+1}$ gives\n",
    "    $$x_{n+1} = x_n - \\frac{f(x_n)}{f'(x_n)}.$$"
   ]
  },
  {
   "cell_type": "markdown",
   "metadata": {},
   "source": [
    "## Alogrithm\n",
    "\n",
    "1. Given a guessing solution $x_0$ for $f(x) = 0$ and the values of $f(x_0)$.\n",
    "2. Find the differential value $f'(x_0)$.\n",
    "3. Find the next approximation solution $x_1$ by using the formula $x_1 = x_0 - \\dfrac{f(x_0)}{f'(x_0)}$. \n",
    "4. Repeat the _step 2_ and the _step 3_ to find the following approximations $x_2, x_3, \\dots, x_n$ until until some criterions satisfied (For instance, max iterations, error tolerance, etc.).\n",
    "5. Return the approximation solution $x_n$."
   ]
  },
  {
   "cell_type": "markdown",
   "metadata": {},
   "source": [
    "## Implementation"
   ]
  },
  {
   "cell_type": "markdown",
   "metadata": {},
   "source": [
    "### Part 0. Import necessary libraries"
   ]
  },
  {
   "cell_type": "code",
   "execution_count": null,
   "metadata": {},
   "outputs": [],
   "source": [
    "import matplotlib.pyplot as plt\n",
    "import numpy as np"
   ]
  },
  {
   "cell_type": "markdown",
   "metadata": {},
   "source": [
    "### Part 1. Implement with only tolerance"
   ]
  },
  {
   "cell_type": "code",
   "execution_count": null,
   "metadata": {},
   "outputs": [],
   "source": [
    "def newton(\n",
    "    func,\n",
    "    d_func,\n",
    "    x_0,\n",
    "    tolerance=1e-7\n",
    "):\n",
    "    '''\n",
    "    Parameters\n",
    "    ----------\n",
    "    func : function\n",
    "        The target function.\n",
    "    d_func : function\n",
    "        The derivative of the target function.\n",
    "    x_0 : float\n",
    "        Initial guess point for a solution f(x)=0.\n",
    "    tolerance : float\n",
    "        One of the termination conditions. Error tolerance.\n",
    "\n",
    "    Returns\n",
    "    -------\n",
    "    solution : float\n",
    "        Approximation of the root.\n",
    "    '''\n",
    "    # Set the initial conditions\n",
    "    x_n = x_0\n",
    "    \n",
    "    while True:\n",
    "        \n",
    "        # Find the value of f(x_n)\n",
    "        f_of_x_n = func(x_n)\n",
    "        \n",
    "        # Evaluate the error\n",
    "        error = abs(f_of_x_n)\n",
    "        \n",
    "        # Satisfy the criterion and stop\n",
    "        if error < tolerance:\n",
    "            return x_n\n",
    "        \n",
    "        # Find the differential value of f'(x_n)\n",
    "        d_f_of_x_n = d_func(x_n)\n",
    "        \n",
    "        # Find the next approximation solution\n",
    "        x_n = x_n - f_of_x_n / d_f_of_x_n\n",
    "        "
   ]
  },
  {
   "cell_type": "markdown",
   "metadata": {},
   "source": [
    "### Test the function"
   ]
  },
  {
   "cell_type": "code",
   "execution_count": null,
   "metadata": {},
   "outputs": [],
   "source": [
    "print(newton(\n",
    "    func = lambda x: (x - 2)**2,\n",
    "    d_func = lambda x: 2*x - 4,\n",
    "    x_0 = 1,\n",
    "#     tolerance=1e-7\n",
    "))"
   ]
  },
  {
   "cell_type": "markdown",
   "metadata": {},
   "source": [
    "### Find the bug!\n",
    "\n",
    "Consider the point $x_i$ such that the differential value $f'(x_i) = 0$, then what will happen?<br>\n",
    "\n",
    "For example, solving\n",
    "    $$f(x) = (x - 2)^2 - 1\\,\\,\\,\\text{ with the initial point }\\,x_0 = 2$$"
   ]
  },
  {
   "cell_type": "code",
   "execution_count": null,
   "metadata": {},
   "outputs": [],
   "source": [
    "# Visualize f(x) on [0, 4]\n",
    "\n",
    "f = lambda x: (x - 2)**2 - 1\n",
    "d_f = lambda x: 2*x - 4\n",
    "x_0 = 2\n",
    "f_of_x_0 = f(x_0)\n",
    "\n",
    "search_range = np.arange(0, 4, 0.01)\n",
    "fig, ax = plt.subplots(figsize=(16, 9))\n",
    "\n",
    "# Plot the function f(x)\n",
    "ax.plot(search_range, f(search_range))\n",
    "\n",
    "# Plot the point (x_0, 0)\n",
    "ax.scatter(x_0, 0, color='black')\n",
    "ax.annotate('('+str(x_0)+', 0)', (x_0+0.05, 0+0.1))\n",
    "\n",
    "# Plot the point (x_0, f(x_0))\n",
    "ax.scatter(x_0, f_of_x_0, color='r')\n",
    "ax.annotate('('+str(x_0)+', '+str(f_of_x_0)+')', (x_0+0.05, f_of_x_0+0.1))\n",
    "\n",
    "# Plot the tangent line at (x_0, f(x_0))\n",
    "ax.plot(search_range, f(x_0)*np.ones(search_range.shape[0]), color='r', ls='--')\n",
    "\n",
    "# Add other text and items\n",
    "ax.set_title(r'$f(x) = (x - 2)^2 - 1$')\n",
    "ax.grid(True)\n",
    "ax.axhline(y=0)\n",
    "ax.axvline(x=0)\n",
    "plt.show()"
   ]
  },
  {
   "cell_type": "code",
   "execution_count": null,
   "metadata": {},
   "outputs": [],
   "source": [
    "print(newton(\n",
    "    func = lambda x: (x - 2)**2 - 1,\n",
    "    d_func = lambda x: 2*x - 4,\n",
    "    x_0 = 2,\n",
    "#     tolerance=1e-7\n",
    "))"
   ]
  },
  {
   "cell_type": "markdown",
   "metadata": {},
   "source": [
    "### Observation:\n",
    "\n",
    "In the above case, since the differential value is zero, we cannot continue to find the next approximation solution.<br>\n",
    "\n",
    "> **NOTE**: You can output the error message and also stop the loop!"
   ]
  },
  {
   "cell_type": "markdown",
   "metadata": {},
   "source": [
    "### Part 2. Stop the loop when f'(x) = 0 and return \" _None_ \""
   ]
  },
  {
   "cell_type": "code",
   "execution_count": null,
   "metadata": {},
   "outputs": [],
   "source": [
    "def newton(\n",
    "    func,\n",
    "    d_func,\n",
    "    x_0,\n",
    "    tolerance=1e-7\n",
    "):\n",
    "    '''\n",
    "    Parameters\n",
    "    ----------\n",
    "    func : function\n",
    "        The target function.\n",
    "    d_func : function\n",
    "        The derivative of the target function.\n",
    "    x_0 : float\n",
    "        Initial guess point for a solution f(x)=0.\n",
    "    max_iterations : int\n",
    "        One of the termination conditions. The amount of iterations allowed.\n",
    "\n",
    "    Returns\n",
    "    -------\n",
    "    solution : float\n",
    "        Approximation of the root.\n",
    "    '''\n",
    "    # Set the initial conditions\n",
    "    x_n = x_0\n",
    "    \n",
    "    while True:\n",
    "        \n",
    "        # Find the value of f(x_n)\n",
    "        f_of_x_n = func(x_n)\n",
    "        \n",
    "        # Evaluate the error\n",
    "        error = abs(f_of_x_n)\n",
    "        \n",
    "        # Satisfy the criterion and stop\n",
    "        if error < tolerance:\n",
    "            return x_n\n",
    "        \n",
    "        # Find the differential value of f'(x_n)\n",
    "        d_f_of_x_n = d_func(x_n)\n",
    "        \n",
    "        if d_f_of_x_n == 0:\n",
    "            print('Zero derivative. No solution found.')\n",
    "            return None\n",
    "        \n",
    "        # Find the next approximation solution\n",
    "        x_n = x_n - f_of_x_n / d_f_of_x_n\n",
    "        "
   ]
  },
  {
   "cell_type": "markdown",
   "metadata": {},
   "source": [
    "### Test the same case again"
   ]
  },
  {
   "cell_type": "code",
   "execution_count": null,
   "metadata": {},
   "outputs": [],
   "source": [
    "print(newton(\n",
    "    func = lambda x: (x - 2)**2 - 1,\n",
    "    d_func = lambda x: 2*x - 4,\n",
    "    x_0 = 2,\n",
    "    # tolerance=1e-7\n",
    "))"
   ]
  },
  {
   "cell_type": "markdown",
   "metadata": {},
   "source": [
    "### Let's go through another case\n",
    "\n",
    "Consider another function $f(x) = x^3 - 2x + 2$ and take $x_0 = 0$ as the starting\n",
    "point. "
   ]
  },
  {
   "cell_type": "code",
   "execution_count": null,
   "metadata": {},
   "outputs": [],
   "source": [
    "# Visualize f(x) on [-2, 2]\n",
    "\n",
    "f = lambda x: x**3 - 2*x + 2\n",
    "d_f = lambda x: 3*x**2 - 2\n",
    "search_range = np.arange(-3, 3, 0.01)\n",
    "fig, ax = plt.subplots(figsize=(16, 8))\n",
    "\n",
    "# Plot the function f(x)\n",
    "ax.plot(search_range, f(search_range))\n",
    "\n",
    "# Plot the initial point\n",
    "x_0 = 0\n",
    "f_of_x_0 = f(x_0)\n",
    "d_f_of_x_0 = d_f(x_0)\n",
    "ax.scatter(x_0, 0, color='black')\n",
    "ax.annotate('(0, 0)',(0+0.05, 0+0.1))\n",
    "ax.scatter(x_0, f_of_x_0, color='r')\n",
    "ax.annotate('$x_0$:(0, '+str(f_of_x_0)+')', (0+0.05, f_of_x_0+0.1))\n",
    "ax.plot(np.arange(-1, 1, 0.01),\n",
    "        d_f_of_x_0*(np.arange(-1, 1, 0.01)-x_0)+f(x_0)*np.ones(np.arange(-1, 1, 0.01).shape[0]),\n",
    "        color='r',\n",
    "        ls='--')\n",
    "\n",
    "# Plot the next approximation solution\n",
    "x_1 = x_0 - f_of_x_0/d_f_of_x_0\n",
    "f_of_x_1 = f(x_1)\n",
    "d_f_of_x_1 = d_f(x_1)\n",
    "ax.scatter(x_1, 0, color='black')\n",
    "ax.annotate('('+str(x_1)+', 0)', (x_1+0.05, 0+0.1))\n",
    "ax.scatter(x_1, f_of_x_1, color='green')\n",
    "ax.annotate('$x_1$:('+str(x_1)+', '+str(f_of_x_1)+')', (x_1+0.05, f_of_x_1+0.1))\n",
    "ax.plot(np.arange(0, 2, 0.01),\n",
    "        d_f(x_1)*(np.arange(0, 2, 0.01)-x_1)+f(x_1)*np.ones(np.arange(0, 2, 0.01).shape[0]),\n",
    "        color='green',\n",
    "        ls='--')\n",
    "\n",
    "# Add other text and items\n",
    "ax.set_title(r'$f(x) = x^3 - 2x + 2$')\n",
    "ax.grid(True)\n",
    "ax.axhline(y=0)\n",
    "ax.axvline(x=0)\n",
    "plt.ylim(-1,4)\n",
    "plt.show()"
   ]
  },
  {
   "cell_type": "code",
   "execution_count": null,
   "metadata": {},
   "outputs": [],
   "source": [
    "print(newton(\n",
    "    func = lambda x: x**3 - 2*x + 2,\n",
    "    d_func = lambda x: 3*x**2 - 2,\n",
    "    x_0 = 0,\n",
    "    # tolerance=1e-7\n",
    "))"
   ]
  },
  {
   "cell_type": "markdown",
   "metadata": {},
   "source": [
    "> **NOTE**: You can stop the running process by pressing the __stop button__ on the tools bar above."
   ]
  },
  {
   "cell_type": "markdown",
   "metadata": {},
   "source": [
    "### Part 3. Avoid endless loop by limiting the amount of iterations"
   ]
  },
  {
   "cell_type": "code",
   "execution_count": null,
   "metadata": {},
   "outputs": [],
   "source": [
    "def newton(\n",
    "    func,\n",
    "    d_func,\n",
    "    x_0,\n",
    "    tolerance=1e-7,\n",
    "    max_iterations=5\n",
    "):\n",
    "    '''\n",
    "    Parameters\n",
    "    ----------\n",
    "    func : function\n",
    "        The target function.\n",
    "    d_func : function\n",
    "        The derivative of the target function.\n",
    "    x_0 : float\n",
    "        Initial guess point for a solution f(x)=0.\n",
    "    tolerance : float\n",
    "        One of the termination conditions. Error tolerance.\n",
    "    max_iterations : int\n",
    "        One of the termination conditions. The amount of iterations allowed.\n",
    "\n",
    "    Returns\n",
    "    -------\n",
    "    solution : float\n",
    "        Approximation of the root.\n",
    "    '''\n",
    "    # Set the initial conditions\n",
    "    x_n = x_0\n",
    "    num_iterations = 0\n",
    "    \n",
    "    while True:\n",
    "        \n",
    "        # Find the value of f(x_n)\n",
    "        f_of_x_n = func(x_n)\n",
    "        \n",
    "        # Evaluate the error\n",
    "        error = abs(f_of_x_n)\n",
    "        \n",
    "        # Satisfy the criterion and stop\n",
    "        if error < tolerance:\n",
    "            print('Found solution after',num_iterations,'iterations.')\n",
    "            return x_n\n",
    "        \n",
    "        # Find the differential value of f'(x_n)\n",
    "        d_f_of_x_n = d_func(x_n)\n",
    "        \n",
    "        # Avoid zero derivative\n",
    "        if d_f_of_x_n == 0:\n",
    "            print('Zero derivative. No solution found.')\n",
    "            return None\n",
    "        \n",
    "        # Check the number of iterations\n",
    "        if num_iterations < max_iterations:\n",
    "            num_iterations += 1\n",
    "            \n",
    "            # Find the next approximation solution\n",
    "            x_n = x_n - f_of_x_n / d_f_of_x_n\n",
    "            \n",
    "        # Satisfy the criterion and stop\n",
    "        else:\n",
    "            print('Terminate since reached the maximum iterations.')\n",
    "            return x_n"
   ]
  },
  {
   "cell_type": "markdown",
   "metadata": {},
   "source": [
    "### Test the same case again"
   ]
  },
  {
   "cell_type": "code",
   "execution_count": null,
   "metadata": {},
   "outputs": [],
   "source": [
    "print(newton(\n",
    "    func = lambda x: x**3 - 2*x + 2,\n",
    "    d_func = lambda x: 3*x**2 - 2,\n",
    "    x_0 = 0,\n",
    "#     tolerance=1e-7,\n",
    "#     max_iterations=10\n",
    "))"
   ]
  },
  {
   "cell_type": "markdown",
   "metadata": {},
   "source": [
    "## Example\n",
    "\n",
    "Let's using the same function in bisection method \n",
    "\n",
    "$$f(x) = x^2 - x - 1 = 0$$"
   ]
  },
  {
   "cell_type": "markdown",
   "metadata": {},
   "source": [
    "### Step1. Construct the target function."
   ]
  },
  {
   "cell_type": "code",
   "execution_count": null,
   "metadata": {},
   "outputs": [],
   "source": [
    "def f(x):\n",
    "    return x**2 - x - 1\n",
    "\n",
    "def d_f(x):\n",
    "    return 2*x - 1"
   ]
  },
  {
   "cell_type": "markdown",
   "metadata": {},
   "source": [
    "### Step2. Guess the possible solution"
   ]
  },
  {
   "cell_type": "code",
   "execution_count": null,
   "metadata": {},
   "outputs": [],
   "source": [
    "fig, ax = plt.subplots(figsize=(16, 9))\n",
    "search_range = np.arange(0, 3, 0.01)\n",
    "ax.plot(search_range, f(search_range))\n",
    "ax.set_title(r'$f(x) = x^2 - x - 1$')\n",
    "ax.grid(True)\n",
    "ax.axhline(y=0)\n",
    "ax.axvline(x=0)\n",
    "plt.show()"
   ]
  },
  {
   "cell_type": "markdown",
   "metadata": {},
   "source": [
    "### Observation:\n",
    "\n",
    "It seems that we can choose the point $1.5$ or $2$ to be the initial guessing point."
   ]
  },
  {
   "cell_type": "markdown",
   "metadata": {},
   "source": [
    "### Step3. Start solving!"
   ]
  },
  {
   "cell_type": "code",
   "execution_count": null,
   "metadata": {},
   "outputs": [],
   "source": [
    "my_initial_point = 2                  # Maybe 1.5 or 2 is a good choice\n",
    "\n",
    "solution = newton(\n",
    "    f,\n",
    "    d_f,\n",
    "    my_initial_point,\n",
    "    tolerance=1e-7,\n",
    "    max_iterations=10\n",
    ")\n",
    "print(solution)"
   ]
  },
  {
   "cell_type": "markdown",
   "metadata": {},
   "source": [
    "### Let's compare with the exact solution"
   ]
  },
  {
   "cell_type": "code",
   "execution_count": null,
   "metadata": {},
   "outputs": [],
   "source": [
    "exact_solution = (1 + np.sqrt(5)) / 2\n",
    "print('The error is', abs(solution - exact_solution))"
   ]
  },
  {
   "cell_type": "markdown",
   "metadata": {},
   "source": [
    "## Error Analysis\n",
    "\n",
    "Furthermore, we can store the history of solving process to study the convergence behavior of this method."
   ]
  },
  {
   "cell_type": "code",
   "execution_count": null,
   "metadata": {},
   "outputs": [],
   "source": [
    "def newton(\n",
    "    func,\n",
    "    d_func,\n",
    "    x_0,\n",
    "    tolerance=1e-7,\n",
    "    max_iterations=5,\n",
    "    report_history=False\n",
    "):\n",
    "    '''\n",
    "    Parameters\n",
    "    ----------\n",
    "    func : function\n",
    "        The target function.\n",
    "    d_func : function\n",
    "        The derivative of the target function.\n",
    "    x_0 : float\n",
    "        Initial guess point for a solution f(x)=0.\n",
    "    tolerance : float\n",
    "        One of the termination conditions. Error tolerance.\n",
    "    max_iterations : int\n",
    "        One of the termination conditions. The amount of iterations allowed.\n",
    "    report_history: bool\n",
    "        Whether to return history.\n",
    "\n",
    "    Returns\n",
    "    -------\n",
    "    solution : float\n",
    "        Approximation of the root.\n",
    "    history: dict\n",
    "        Return history of the solving process if report_history is True.\n",
    "    '''\n",
    "    # Set the initial conditions\n",
    "    x_n = x_0\n",
    "    num_iterations = 0\n",
    "    \n",
    "    # history of solving process\n",
    "    if report_history:\n",
    "        history = {'estimation': [], 'error': []}\n",
    "    \n",
    "    while True:\n",
    "        \n",
    "        # Find the value of f(x_n)\n",
    "        f_of_x_n = func(x_n)\n",
    "        \n",
    "        # Evaluate the error\n",
    "        error = abs(f_of_x_n)\n",
    "        \n",
    "        if report_history:\n",
    "            history['estimation'].append(x_n)\n",
    "            history['error'].append(error)\n",
    "        \n",
    "        # Satisfy the criterion and stop\n",
    "        if error < tolerance:\n",
    "            print('Found solution after', num_iterations,'iterations.')\n",
    "            if report_history:\n",
    "                return x_n, history\n",
    "            else:\n",
    "                return x_n\n",
    "        \n",
    "        # Find the differential value of f'(x_n)\n",
    "        d_f_of_x_n = d_func(x_n)\n",
    "        \n",
    "        # Avoid zero derivative\n",
    "        if d_f_of_x_n == 0:\n",
    "            print('Zero derivative. No solution found.')\n",
    "            if report_history:\n",
    "                return None, history\n",
    "            else:\n",
    "                return None\n",
    "        \n",
    "        # Check the number of iterations\n",
    "        if num_iterations < max_iterations:\n",
    "            num_iterations += 1\n",
    "            \n",
    "            # Find the next approximation solution\n",
    "            x_n = x_n - f_of_x_n / d_f_of_x_n\n",
    "        \n",
    "        # Satisfy the criterion and stop\n",
    "        else:\n",
    "            print('Terminate since reached the maximum iterations.')\n",
    "            if report_history:\n",
    "                return x_n, history\n",
    "            else:\n",
    "                return x_n"
   ]
  },
  {
   "cell_type": "code",
   "execution_count": null,
   "metadata": {},
   "outputs": [],
   "source": [
    "solution, history = newton(\n",
    "    f,\n",
    "    d_f,\n",
    "    my_initial_point,\n",
    "    tolerance=1e-16,\n",
    "    max_iterations=100,\n",
    "    report_history=True\n",
    ")\n",
    "print(solution)"
   ]
  },
  {
   "cell_type": "code",
   "execution_count": null,
   "metadata": {
    "scrolled": false
   },
   "outputs": [],
   "source": [
    "fig, axes = plt.subplots(3, 1, figsize=(16, 9))\n",
    "ax1, ax2, ax3 = axes\n",
    "\n",
    "num_iterations = len(history['estimation'])\n",
    "iterations = range(num_iterations)\n",
    "for ax in axes:\n",
    "    ax.set_xticks(iterations)\n",
    "\n",
    "# Plot the estimation in history\n",
    "ax1.plot(iterations, history['estimation'])\n",
    "ax1.set_ylabel('Estimation')\n",
    "\n",
    "# Plot the estimation error (log(error)) in history\n",
    "ax2.plot(iterations, history['error'])\n",
    "ax2.set_ylabel('Estimated Error')\n",
    "ax2.set_yscale('log')\n",
    "\n",
    "# Plot the estimation actual error (estimation - exact solution) in history\n",
    "actual_error = np.abs(history['estimation']-exact_solution)\n",
    "ax3.plot(iterations, actual_error)\n",
    "ax3.set_ylabel('Actual error')\n",
    "ax3.set_yscale('log')\n",
    "ax3.set_xlabel('Iterations')\n",
    "\n",
    "plt.tight_layout()\n",
    "plt.show()"
   ]
  },
  {
   "cell_type": "markdown",
   "metadata": {},
   "source": [
    "## Advantages and Disadvantages"
   ]
  },
  {
   "cell_type": "markdown",
   "metadata": {},
   "source": [
    "### Advantages\n",
    "\n",
    "1. Converges very quickly."
   ]
  },
  {
   "cell_type": "markdown",
   "metadata": {},
   "source": [
    "### Disadvantages\n",
    "\n",
    "1. _**Not guaranteed to converge**_ .\n",
    "2. Need to compute values of the derivative of the function.\n",
    "3. Don't know how close we are to a solution."
   ]
  },
  {
   "cell_type": "markdown",
   "metadata": {},
   "source": [
    "## End"
   ]
  }
 ],
 "metadata": {
  "kernelspec": {
   "display_name": "Python 3",
   "language": "python",
   "name": "python3"
  },
  "language_info": {
   "codemirror_mode": {
    "name": "ipython",
    "version": 3
   },
   "file_extension": ".py",
   "mimetype": "text/x-python",
   "name": "python",
   "nbconvert_exporter": "python",
   "pygments_lexer": "ipython3",
   "version": "3.7.3"
  }
 },
 "nbformat": 4,
 "nbformat_minor": 2
}
